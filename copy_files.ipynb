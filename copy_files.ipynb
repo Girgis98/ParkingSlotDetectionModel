{
  "nbformat": 4,
  "nbformat_minor": 0,
  "metadata": {
    "colab": {
      "name": "copy_files.ipynb",
      "provenance": [],
      "collapsed_sections": [],
      "include_colab_link": true
    },
    "kernelspec": {
      "display_name": "Python 3",
      "name": "python3"
    },
    "language_info": {
      "name": "python"
    }
  },
  "cells": [
    {
      "cell_type": "markdown",
      "metadata": {
        "id": "view-in-github",
        "colab_type": "text"
      },
      "source": [
        "<a href=\"https://colab.research.google.com/github/Girgis98/ParkingSlotDetectionModel/blob/main/copy_files.ipynb\" target=\"_parent\"><img src=\"https://colab.research.google.com/assets/colab-badge.svg\" alt=\"Open In Colab\"/></a>"
      ]
    },
    {
      "cell_type": "code",
      "metadata": {
        "id": "o_7riKQya2R0",
        "colab": {
          "base_uri": "https://localhost:8080/"
        },
        "outputId": "9cb9bdfe-d2dd-40de-e765-41c44fc49088"
      },
      "source": [
        "from google.colab import drive\n",
        "drive.mount('/content/drive',force_remount=True)"
      ],
      "execution_count": 1,
      "outputs": [
        {
          "output_type": "stream",
          "text": [
            "Go to this URL in a browser: https://accounts.google.com/o/oauth2/auth?client_id=947318989803-6bn6qk8qdgf4n4g3pfee6491hc0brc4i.apps.googleusercontent.com&redirect_uri=urn%3aietf%3awg%3aoauth%3a2.0%3aoob&scope=email%20https%3a%2f%2fwww.googleapis.com%2fauth%2fdocs.test%20https%3a%2f%2fwww.googleapis.com%2fauth%2fdrive%20https%3a%2f%2fwww.googleapis.com%2fauth%2fdrive.photos.readonly%20https%3a%2f%2fwww.googleapis.com%2fauth%2fpeopleapi.readonly%20https%3a%2f%2fwww.googleapis.com%2fauth%2fdrive.activity.readonly%20https%3a%2f%2fwww.googleapis.com%2fauth%2fexperimentsandconfigs%20https%3a%2f%2fwww.googleapis.com%2fauth%2fphotos.native&response_type=code\n",
            "\n",
            "Enter your authorization code:\n",
            "4/1AX4XfWj_UUOmeYJ96rkpkYhA4V6GRH6UKDsmP0mBfNWKvl023kPjJ_FRQEY\n",
            "Mounted at /content/drive\n"
          ],
          "name": "stdout"
        }
      ]
    },
    {
      "cell_type": "code",
      "metadata": {
        "colab": {
          "base_uri": "https://localhost:8080/"
        },
        "id": "icw42ykC5ylA",
        "outputId": "ff7a9943-d293-4575-cdf5-7d0aa2223b82"
      },
      "source": [
        "from google.colab import drive\n",
        "drive.mount('/content/drive')"
      ],
      "execution_count": null,
      "outputs": [
        {
          "output_type": "stream",
          "text": [
            "Drive already mounted at /content/drive; to attempt to forcibly remount, call drive.mount(\"/content/drive\", force_remount=True).\n"
          ],
          "name": "stdout"
        }
      ]
    },
    {
      "cell_type": "code",
      "metadata": {
        "id": "W_LWrbSGbw40"
      },
      "source": [
        "from IPython.core.interactiveshell import InteractiveShell\n",
        "InteractiveShell.ast_node_interactivity = \"all\";"
      ],
      "execution_count": null,
      "outputs": []
    },
    {
      "cell_type": "code",
      "metadata": {
        "id": "A5bmeWVHbzUj"
      },
      "source": [
        "import scipy.io\n",
        "from PIL import Image\n",
        "import numpy as np\n",
        "import matplotlib.pyplot as plt\n",
        "import json\n",
        "import os\n",
        "import codecs\n",
        "import torch \n",
        "import torch.nn as nn\n",
        "import torchvision\n",
        "import torchvision.transforms as transforms\n",
        "import os\n",
        "import scipy.io\n",
        "import glob\n",
        "from scipy.io import loadmat\n",
        "import scipy\n",
        "import pandas as pd\n",
        "import io\n",
        "import numpy as np\n",
        "import cv2\n",
        "import json\n",
        "import os\n",
        "import os.path\n",
        "import cv2 as cv\n",
        "from torch.utils.data import Dataset\n",
        "from torchvision.transforms import ToTensor\n",
        "from torch.utils.data import DataLoader\n",
        "from torchvision import transforms, utils\n",
        "import math\n",
        "from skimage import io, transform\n",
        "from collections import namedtuple\n",
        "from enum import Enum\n",
        "import matplotlib.pyplot as plt\n",
        "from torchvision.utils import save_image\n",
        "from PIL import Image\n",
        "from matplotlib import cm\n",
        "import shutil\n",
        "from shutil import copyfile\n",
        "from pathlib import Path\n",
        "from distutils.dir_util import copy_tree\n",
        "import sys\n",
        "import subprocess\n",
        "import pickle\n",
        "import time\n",
        "import random"
      ],
      "execution_count": 2,
      "outputs": []
    },
    {
      "cell_type": "code",
      "metadata": {
        "id": "HL-QvXE4b-Uq"
      },
      "source": [
        "root_src = r\"/content/drive/MyDrive/training_mix2\"\n",
        "root_dst = r\"/content/drive/MyDrive/train_20\"\n",
        "root_tst = r\"/content/drive/MyDrive/inverted_images\"\n",
        "added_name = \"\""
      ],
      "execution_count": null,
      "outputs": []
    },
    {
      "cell_type": "code",
      "metadata": {
        "id": "6_PnW9dy6UUH"
      },
      "source": [
        "# fast copy\n",
        "def copyWithSubprocess(cmd):        \n",
        "    proc = subprocess.Popen(cmd, stdout=subprocess.PIPE, stderr=subprocess.PIPE)\n",
        "\n",
        "cmd=None\n",
        "if sys.platform.startswith(\"darwin\"): cmd=['cp', root_src, root_dst]\n",
        "elif sys.platform.startswith(\"win\"): cmd=['xcopy', root_src, root_dst, '/K/O/X']\n",
        "\n",
        "if cmd: copyWithSubprocess(cmd)"
      ],
      "execution_count": null,
      "outputs": []
    },
    {
      "cell_type": "code",
      "metadata": {
        "id": "M9Jxaajt4N97"
      },
      "source": [
        "\n",
        "# copy subdirectory example\n",
        "\n",
        "copy_tree(root_src, root_dst)\n"
      ],
      "execution_count": null,
      "outputs": []
    },
    {
      "cell_type": "code",
      "metadata": {
        "id": "w3qAi1zxN76k"
      },
      "source": [
        "def load(path):\n",
        "  try:\n",
        "    jpg_names = []\n",
        "    json_names =[]\n",
        "    for file in os.listdir(root_dst):\n",
        "              if file.endswith(\".jpg\"):\n",
        "                  jpg_names.append(os.path.splitext(file)[0])\n",
        "              if file.endswith(\".json\"):\n",
        "                  json_names.append(os.path.splitext(file)[0])    \n",
        "    return jpg_names,json_names\n",
        "  except:\n",
        "    return load(path)  "
      ],
      "execution_count": null,
      "outputs": []
    },
    {
      "cell_type": "code",
      "metadata": {
        "id": "0PoZ5d2kc-yy"
      },
      "source": [
        "root_dst =r\"/content/drive/MyDrive/new_files\"\n",
        "jpg_names = []\n",
        "json_names =[]\n",
        "jpg_names,json_names = load(r\"/content/drive/MyDrive/new_files\")\n",
        "#try:\n",
        " # for file in os.listdir(root_dst):\n",
        "  #           if file.endswith(\".json\"):\n",
        "   #               names.append(os.path.splitext(file)[0])\n",
        "  #print(len(names))\n",
        "#except:\n",
        "# for file in os.listdir(root_dst):\n",
        "#           if file.endswith(\".jpg\"):\n",
        "#               jpg_names.append(os.path.splitext(file)[0])\n",
        "#           if file.endswith(\".json\"):\n",
        "#               json_names.append(os.path.splitext(file)[0])    \n",
        "print(len(json_names),len(jpg_names))                                  \n",
        "\n"
      ],
      "execution_count": null,
      "outputs": []
    },
    {
      "cell_type": "code",
      "metadata": {
        "id": "E8XkIh7TT20B"
      },
      "source": [
        "with open(r\"/content/drive/MyDrive/json_names_list_new_files.pkl\", \"wb\") as fp:   #Pickling\n",
        "            pickle.dump(json_names, fp)\n",
        "with open(r\"/content/drive/MyDrive/jpg_names_list_new_files.pkl\", \"wb\") as fp:   #Pickling\n",
        "            pickle.dump(jpg_names, fp)\n",
        "             "
      ],
      "execution_count": null,
      "outputs": []
    },
    {
      "cell_type": "code",
      "metadata": {
        "id": "6g9P2FUyUZh-"
      },
      "source": [
        "saa = \"ssassasasss\"\n",
        "saa.count(\"ss\")"
      ],
      "execution_count": null,
      "outputs": []
    },
    {
      "cell_type": "code",
      "metadata": {
        "id": "hEcP6bLG9kKP"
      },
      "source": [
        "#  for i in range (len(jpg_names)):\n",
        "#           if jpg_names [i] != json_names [i]:\n",
        "#             print(jpg_names[i],json_names[i] ,i)\n",
        "#             break\n",
        "# ls = []\n",
        "# for i in range(len(jpg_names)):\n",
        "#   flag = 0\n",
        "\n",
        "#   for j in range(len(json_names)):\n",
        "#     if jpg_names[i] == json_names[j]:\n",
        "#       flag = 1\n",
        "#       break\n",
        "#   if flag == 0:\n",
        "#     print (jpg_names[i])\n",
        "#     ls.append(jpg_names[i])  \n",
        "# print (ls) \n",
        "for i in range(len(json_names)):\n",
        "  if jpg_names.count(json_names[i]) == 0:\n",
        "    print(i)        "
      ],
      "execution_count": null,
      "outputs": []
    },
    {
      "cell_type": "code",
      "metadata": {
        "id": "awWjW1Fc7kDA"
      },
      "source": [
        "len(names)"
      ],
      "execution_count": null,
      "outputs": []
    },
    {
      "cell_type": "code",
      "metadata": {
        "id": "aCzbmjLxb5oV"
      },
      "source": [
        "root_src = r\"/content/drive/MyDrive/train_20_mix\"\n",
        "root_dst = r\"/content/drive/MyDrive/train_20_mix\"\n",
        "added_name = \"\"\n",
        "names = []\n",
        "for file in os.listdir(root_src):\n",
        "    if file.endswith(\".json\"):\n",
        "        names.append(os.path.splitext(file)[0])\n",
        "len(names)   "
      ],
      "execution_count": null,
      "outputs": []
    },
    {
      "cell_type": "markdown",
      "metadata": {
        "id": "TqYQQaifhZis"
      },
      "source": [
        "#### Converting jpg to pt"
      ]
    },
    {
      "cell_type": "code",
      "metadata": {
        "id": "Dlh6KEJLc8HN"
      },
      "source": [
        "for i in range(len(names)):\n",
        "  image = cv.imread(f\"{root_src}/{names[0]}.jpg\")    \n",
        "  t = torch.from_numpy(image)\n",
        "  torch.save(t,f\"{root_src}/{names[i]}.pt\")"
      ],
      "execution_count": null,
      "outputs": []
    },
    {
      "cell_type": "markdown",
      "metadata": {
        "id": "ZlKIEXwR6Er-"
      },
      "source": [
        "####Generate random file"
      ]
    },
    {
      "cell_type": "code",
      "metadata": {
        "id": "QGVGzGKfvPvE"
      },
      "source": [
        "root_src = r\"/content/drive/MyDrive/training_mix2\"\n",
        "root_dst = r\"/content/drive/MyDrive/train_20_mix\"\n",
        "added_name = \"\"\n",
        "file_size = 20\n",
        "names = []\n",
        "for file in os.listdir(root_src):\n",
        "            if file.endswith(\".json\"):\n",
        "                names.append(os.path.splitext(file)[0])\n",
        "\n",
        "random_list = []\n",
        "while len(random_list)<file_size:\n",
        "  n = random.randint(0,len(names))\n",
        "  if not n in random_list:\n",
        "    random_list.append(n)\n",
        "\n",
        "for i in range(0,len(random_list)):\n",
        "    src_json = f\"{root_src}/{names[i]}.json\"\n",
        "    dst_json = f\"{root_dst}/{added_name}{names[i]}.json\"\n",
        "    copyfile(src_json, dst_json)\n",
        "    src_jpg = f\"{root_src}/{names[i]}.jpg\"\n",
        "    dst_jpg = f\"{root_dst}/{added_name}{names[i]}.jpg\"\n",
        "    copyfile(src_jpg, dst_jpg)\n",
        "    print(\"\\n\\n\",i,\"\\n\\n\")    "
      ],
      "execution_count": null,
      "outputs": []
    },
    {
      "cell_type": "code",
      "metadata": {
        "id": "oM6j9tq6IM3t"
      },
      "source": [
        "names_json = []\n",
        "for file in os.listdir(root_dst):\n",
        "            if file.endswith(\".json\"):\n",
        "                names_json.append(os.path.splitext(file)[0])\n",
        "names_jpg = []\n",
        "for file in os.listdir(root_dst):\n",
        "            if file.endswith(\".jpg\"):\n",
        "                names_jpg.append(os.path.splitext(file)[0])                \n"
      ],
      "execution_count": null,
      "outputs": []
    },
    {
      "cell_type": "code",
      "metadata": {
        "id": "QLqzwtRb-EGZ"
      },
      "source": [
        "for i in range(len(names_json)):\n",
        "  if names_jpg.count(names_json[i]) == 0:\n",
        "    print(i)"
      ],
      "execution_count": null,
      "outputs": []
    },
    {
      "cell_type": "code",
      "metadata": {
        "id": "nBmYCRqjdLQp"
      },
      "source": [
        "for i in range(0,len(names)):\n",
        "    src_json = f\"{root_src}/{names[i]}.json\"\n",
        "    dst_json = f\"{root_dst}/{added_name}{names[i]}.json\"\n",
        "    copyfile(src_json, dst_json)\n",
        "    src_jpg = f\"{root_src}/{names[i]}.jpg\"\n",
        "    dst_jpg = f\"{root_dst}/{added_name}{names[i]}.jpg\"\n",
        "    copyfile(src_jpg, dst_jpg)\n",
        "    print(\"\\n\\n\",i,\"\\n\\n\")"
      ],
      "execution_count": null,
      "outputs": []
    },
    {
      "cell_type": "code",
      "metadata": {
        "id": "VH0FLWg0m_Yx"
      },
      "source": [
        "for i in range(len(names_jpg)):\n",
        "  flag = 0\n",
        "  ls = []\n",
        "  for j in range(len(names_jpg)):\n",
        "    if names_jpg[i] == names_json[j]:\n",
        "      flag = 1\n",
        "      break\n",
        "  if flag == 0:\n",
        "    ls.append(names_jpg[i])"
      ],
      "execution_count": null,
      "outputs": []
    },
    {
      "cell_type": "code",
      "metadata": {
        "id": "Kgkqms1OO7ZB"
      },
      "source": [
        "for i in range(len(names_jpg)):\n",
        "  if names_jpg[i] == \"P_R_image20160722192751_2192_inv\":\n",
        "    print(i)"
      ],
      "execution_count": null,
      "outputs": []
    },
    {
      "cell_type": "code",
      "metadata": {
        "id": "dHhzIyVnqQFm"
      },
      "source": [
        "empty_file = []\n",
        "for i in range(len(names_jpg)):\n",
        "  size = Path(f\"{root_dst}/{names_jpg[i]}.jpg\").stat().st_size\n",
        "  if size == 0:\n",
        "    empty_file.append(names_jpg[i])"
      ],
      "execution_count": null,
      "outputs": []
    },
    {
      "cell_type": "code",
      "metadata": {
        "id": "pqzRUDzErNZw"
      },
      "source": [
        "for i in range(len(empty_file)):\n",
        "  os.remove(f\"{root_dst}/{empty_file[i]}.json\")\n",
        "  os.remove(f\"{root_dst}/{empty_file[i]}.jpg\")\n",
        "\n",
        "  os.remove(f\"{root_tst}/{empty_file[i]}.json\")\n",
        "  os.remove(f\"{root_tst}/{empty_file[i]}.jpg\")"
      ],
      "execution_count": null,
      "outputs": []
    },
    {
      "cell_type": "code",
      "metadata": {
        "id": "GIPrNdAAy3BB"
      },
      "source": [
        "def checkIfDuplicates_2(listOfElems):\n",
        "    ''' Check if given list contains any duplicates '''    \n",
        "    setOfElems = set()\n",
        "    for elem in listOfElems:\n",
        "        if elem in setOfElems:\n",
        "            return True\n",
        "        else:\n",
        "            setOfElems.add(elem)         \n",
        "    return False"
      ],
      "execution_count": null,
      "outputs": []
    },
    {
      "cell_type": "code",
      "metadata": {
        "id": "5ZiOuN0gWTDL"
      },
      "source": [
        "names_mix2 = []\n",
        "for file in os.listdir(root_src):\n",
        "            if file.endswith(\".json\"):\n",
        "                names_mix2.append(os.path.splitext(file)[0])\n",
        "len(names_mix2)                "
      ],
      "execution_count": null,
      "outputs": []
    },
    {
      "cell_type": "code",
      "metadata": {
        "id": "8f_-qvGfWCMk"
      },
      "source": [
        "no_match = []\n",
        "for i in range(len(names_mix2)):\n",
        "  flag = 0\n",
        "  for j in range(len(names_mix4)):\n",
        "    if (\"mix_\" + names_mix2[i]) == (names_mix4[j]):\n",
        "      flag = 1\n",
        "      break\n",
        "  if flag==0:    \n",
        "    no_match.append(names_mix2[i])"
      ],
      "execution_count": null,
      "outputs": []
    },
    {
      "cell_type": "code",
      "metadata": {
        "id": "xdIffFFPIvlx"
      },
      "source": [
        "# names_json = []\n",
        "# rep = []\n",
        "# for file in os.listdir(root_dst):\n",
        "#             if file.endswith(\".json\"):\n",
        "#                 names_json.append(os.path.splitext(file)[0])\n",
        "# names_jpg = []\n",
        "# for file in os.listdir(root_dst):\n",
        "#             if file.endswith(\".jpg\"):\n",
        "#                 names_jpg.append(os.path.splitext(file)[0])\n",
        "# # for i in range(len(names_json)):\n",
        "# #   count = names_jpg.count(names_json[i])\n",
        "# #   if count == 1:\n",
        "# #     pass\n",
        "# #   elif count > 1 :\n",
        "# #     print(\"repeated\",count,names_json[i])   \n",
        "# #   elif count == 0:\n",
        "# #     rep.append(names_jpg[i])\n",
        "# #     print(names_jpg[i])  \n",
        "# # for i in range(len(names_json)):\n",
        "# #   if names_json[i] == names_jpg[i]:\n",
        "# #      print(True,names_json[i],\" : \",names_jpg[i]) \n",
        "# #   else:\n",
        "# #      print(False,names_json[i],\" : \",names_jpg[i]) \n",
        "# no_match = []\n",
        "# for i in range(len(names_json)):\n",
        "#   flag = 0\n",
        "#   for j in range(len(names_jpg)):\n",
        "#     if names_json[i] == names_jpg[j]:\n",
        "#       flag = 1\n",
        "#       break\n",
        "#   if flag==0:    \n",
        "#     no_match.append(names_json[i])"
      ],
      "execution_count": null,
      "outputs": []
    },
    {
      "cell_type": "code",
      "metadata": {
        "id": "XBYXmyvOJhZz"
      },
      "source": [
        "# for i in range(len(no_match)):\n",
        "#   os.remove(f\"{root_dst}/{no_match[i]}.json\")\n",
        "# os.remove(f\"{root_dst}/P_R_image20160719180856_796_inv.jpg\")  "
      ],
      "execution_count": null,
      "outputs": []
    },
    {
      "cell_type": "code",
      "metadata": {
        "id": "SYFqZ24PFtNk"
      },
      "source": [
        "root_src = r\"/content/drive/MyDrive/inverted_images\"\n",
        "root_dst = r\"/content/drive/MyDrive/train_mix4\"\n",
        "root_tst = r\"/content/drive/MyDrive/inverted_images\"\n",
        "added_name = \"\"\n",
        "names = []\n",
        "for file in os.listdir(root_src):\n",
        "            if file.endswith(\".json\"):\n",
        "                names.append(os.path.splitext(file)[0])              \n",
        "for i in range(10000,len(names)):\n",
        "    print(\"\\n\\n\",i,\"\\n\\n\")\n",
        "    src_json = f\"{root_src}/{names[i]}.json\"\n",
        "    dst_json = f\"{root_dst}/{added_name}{names[i]}.json\"\n",
        "    copyfile(src_json, dst_json)\n",
        "    src_jpg = f\"{root_src}/{names[i]}.jpg\"\n",
        "    dst_jpg = f\"{root_dst}/{added_name}{names[i]}.jpg\"\n",
        "    copyfile(src_jpg, dst_jpg)"
      ],
      "execution_count": null,
      "outputs": []
    },
    {
      "cell_type": "code",
      "metadata": {
        "id": "VRrHpU-Vu3Df"
      },
      "source": [
        "empty = []\n",
        "for i, name in enumerate(names):\n",
        "  print(i)\n",
        "  with open((f\"{root_dst}/{name}.json\"), ) as file:\n",
        "    a = json.load(file)['marks']\n",
        "    if(len(a[0])<4):\n",
        "      print(len(a[0]))\n",
        "      print(i,name)\n",
        "      empty.append(name)"
      ],
      "execution_count": null,
      "outputs": []
    },
    {
      "cell_type": "code",
      "metadata": {
        "id": "xKCWhQNpvBFj"
      },
      "source": [
        "import pickle\n",
        "with open(\"empty_list.pkl\", \"wb\") as fp:   #Pickling\n",
        "  pickle.dump(empty, fp)\n",
        " \n",
        "with open(\"empty_list.pkl\", \"rb\") as fp:   # Unpickling\n",
        "  b = pickle.load(fp)"
      ],
      "execution_count": null,
      "outputs": []
    },
    {
      "cell_type": "code",
      "metadata": {
        "id": "x_wPErIS5ukP"
      },
      "source": [
        "for i in range(len(empty)):\n",
        "  os.remove(f\"{root_dst}/{empty[i]}.json\")\n",
        "  os.remove(f\"{root_dst}/{empty[i]}.jpg\")\n",
        "  print(i)"
      ],
      "execution_count": null,
      "outputs": []
    },
    {
      "cell_type": "code",
      "metadata": {
        "id": "gSzVaj7zLkOv"
      },
      "source": [
        ""
      ],
      "execution_count": null,
      "outputs": []
    },
    {
      "cell_type": "markdown",
      "metadata": {
        "id": "ODMz64ascoqH"
      },
      "source": [
        "##Generate rotated images"
      ]
    },
    {
      "cell_type": "code",
      "metadata": {
        "id": "FrMmpeTwdywg"
      },
      "source": [
        "MarkingPoint = namedtuple('MarkingPoint', ['x', 'y', 'direction_x' ,'direction_y' , 'shape'])\n",
        "class ParkingSlotDataset(Dataset):\n",
        "    \"\"\"Parking slot dataset.\"\"\"\n",
        "    def __init__(self, root):\n",
        "        \n",
        "        super(ParkingSlotDataset, self).__init__()\n",
        "        self.root = root\n",
        "        self.sample_names = []\n",
        "        self.image_transform = ToTensor()\n",
        "        for file in os.listdir(root):\n",
        "            if file.endswith(\".pt\"):\n",
        "                self.sample_names.append(os.path.splitext(file)[0])\n",
        "\n",
        "    def __getitem__(self, index):\n",
        "        name = self.sample_names[index]\n",
        "        sample = torch.load(f\"{self.root}/{name}.pt\")\n",
        "        return sample\n",
        "\n",
        "    def split(self):\n",
        "        total_num = len(self.sample_names)\n",
        "        train_num = int(0.8 * total_num)\n",
        "\n",
        "        random.Random(7).shuffle(self.sample_names)\n",
        "\n",
        "        self.all_samples = self.sample_names.copy()\n",
        "        self.sample_names = self.all_samples[0: train_num]\n",
        "        self.test_names = self.all_samples[train_num:]\n",
        "\n",
        "    def change_mode(self,mode):\n",
        "      if mode == 'train' and self.mode == 'test':\n",
        "        self.sample_names , self.test_names = self.test_names.copy() , self.sample_names.copy()  \n",
        "        self.mode = 'train'\n",
        "        print(\"Training...\",\"\\nTraining Dataset length is:\",len(self.sample_names))\n",
        "\n",
        "      elif mode == 'test' and self.mode == 'train':  \n",
        "        self.sample_names , self.test_names = self.test_names.copy() , self.sample_names.copy()  \n",
        "        self.mode = 'test'\n",
        "        print(\"Testing...\",\"\\nTesting Dataset length is:\",len(self.sample_names))\n",
        "\n",
        "\n",
        "    def __len__(self):\n",
        "        return len(self.sample_names)\n",
        "\n",
        "\n",
        "    def __set__(self,index,value):\n",
        "        # save file name then delete file thrn create another file with new data\n",
        "        name = self.sample_names[index]\n",
        "        in_image = value['image']\n",
        "        in_image = in_image.permute(1, 2, 0)\n",
        "        in_image = cv2.cvtColor(np.array(in_image), cv2.COLOR_RGB2BGR)\n",
        "        in_image = cv.convertScaleAbs(in_image, alpha=(255.0))\n",
        "        cv2.imwrite((f\"{self.root}/{name}.jpg\"), in_image)\n",
        "        in_json ={}\n",
        "        in_json = {'marks':value['marks']}\n",
        "        path = f\"{self.root}/{name}.json\"\n",
        "        json.dump(in_json, codecs.open(path, 'w', encoding='utf-8'),\n",
        "                  separators=(',', ':'), sort_keys=True) ### this saves the array in .json format"
      ],
      "execution_count": 14,
      "outputs": []
    },
    {
      "cell_type": "code",
      "metadata": {
        "colab": {
          "base_uri": "https://localhost:8080/"
        },
        "id": "CV8cxxIKLpeL",
        "outputId": "79fc9937-d162-44ee-a37c-2354c48304dc"
      },
      "source": [
        "park_dataset = ParkingSlotDataset(r\"/content/drive/MyDrive/AutoParkingDataset_15k_tensor_form\")\n",
        "park_dataset.split()\n",
        "print(\"Total Len is:\",len(park_dataset.all_samples))\n",
        "print(\"Train Len is:\",len(park_dataset.sample_names))\n",
        "print(\"Test Len is:\",len(park_dataset.test_names))"
      ],
      "execution_count": 13,
      "outputs": [
        {
          "output_type": "stream",
          "text": [
            "Total Len is: 15198\n",
            "Train Len is: 15046\n",
            "Test Len is: 152\n"
          ],
          "name": "stdout"
        }
      ]
    },
    {
      "cell_type": "code",
      "metadata": {
        "id": "xc2yl2WX8THy"
      },
      "source": [
        "import os\n",
        "for i in range(0,761):\n",
        "  os.mkdir(f'/content/drive/MyDrive/train_aug_all/{i}')"
      ],
      "execution_count": null,
      "outputs": []
    },
    {
      "cell_type": "code",
      "metadata": {
        "id": "65LtwzT3MP0f"
      },
      "source": [
        "def rotate_vector(vector, angle_degree):\n",
        "    \"\"\"Rotate a vector with given angle in degree.\"\"\"\n",
        "    angle_rad = math.pi * angle_degree / 180\n",
        "    xval = vector[0]*math.cos(angle_rad) + vector[1]*math.sin(angle_rad)\n",
        "    yval = -vector[0]*math.sin(angle_rad) + vector[1]*math.cos(angle_rad)\n",
        "    coord_ls = [xval,yval]\n",
        "    return coord_ls\n",
        "\n",
        "\n",
        "def rotate_centralized_marks(centralied_marks, angle_degree):\n",
        "    \"\"\"Rotate centralized marks with given angle in degree.\"\"\"\n",
        "    rotated_marks = []\n",
        "    rotated_mark = []\n",
        "    for i in range(len(centralied_marks)):\n",
        "        mark = centralied_marks[i]\n",
        "        mark_ls = [mark[0]-256,mark[1]-256,mark[2]-256,mark[3]-256,mark[4]]\n",
        "        x_y = rotate_vector(mark_ls[0:2], angle_degree)\n",
        "        dir_x_y = rotate_vector(mark_ls[2:4], angle_degree)\n",
        "        x_y[0] += 256\n",
        "        x_y[1] += 256\n",
        "        dir_x_y[0] += 256\n",
        "        dir_x_y[1] += 256\n",
        "\n",
        "        if(x_y[0]<10 or x_y[0]>502 or x_y[1]<10 or x_y[1]>502):\n",
        "          pass\n",
        "        elif(dir_x_y[0]<0 or dir_x_y[0]>512 or dir_x_y[1]<0 or dir_x_y[1]>512): \n",
        "\n",
        "          if(dir_x_y[0]<0):\n",
        "            offset = abs(dir_x_y[0])\n",
        "            dir_x_y[0] += (offset + 2)\n",
        "\n",
        "            if(dir_x_y[1]>x_y[1]):\n",
        "              dir_x_y[1] -= (offset)\n",
        "    \n",
        "            else:\n",
        "              dir_x_y[1] += (offset)\n",
        "              \n",
        "\n",
        "          elif(dir_x_y[0]>512): \n",
        "            offset = abs(dir_x_y[0] - 512)\n",
        "            dir_x_y[0] -= (offset + 2)\n",
        "\n",
        "            if(dir_x_y[1]>x_y[1]):\n",
        "              dir_x_y[1] -= (offset)\n",
        "            else:\n",
        "              dir_x_y[1] += (offset) \n",
        "               \n",
        "\n",
        "          elif(dir_x_y[1]<0): \n",
        "            offset = abs(dir_x_y[1])\n",
        "            dir_x_y[1] += (offset + 2)\n",
        "\n",
        "            if(dir_x_y[0]>x_y[0]):\n",
        "              dir_x_y[0] -= (offset)\n",
        "            else:\n",
        "              dir_x_y[0] += (offset)  \n",
        "              \n",
        "\n",
        "          elif(dir_x_y[1]>512): \n",
        "            offset = abs(dir_x_y[1] - 512)\n",
        "            dir_x_y[1] -= (offset + 2)\n",
        "\n",
        "            if(dir_x_y[0]>x_y[0]):\n",
        "              dir_x_y[0] -= (offset)\n",
        "            else:\n",
        "              dir_x_y[0] += (offset)  \n",
        "              \n",
        "\n",
        "          rotated_mark.append(x_y[0])\n",
        "          rotated_mark.append(x_y[1])\n",
        "          rotated_mark.append(dir_x_y[0])\n",
        "          rotated_mark.append(dir_x_y[1])\n",
        "          rotated_mark.append(mark_ls[4])\n",
        "          rotated_marks.append(rotated_mark)\n",
        "          rotated_mark = []  \n",
        "\n",
        "        else:  \n",
        "          rotated_mark.append(x_y[0])\n",
        "          rotated_mark.append(x_y[1])\n",
        "          rotated_mark.append(dir_x_y[0])\n",
        "          rotated_mark.append(dir_x_y[1])\n",
        "          rotated_mark.append(mark_ls[4])\n",
        "          rotated_marks.append(rotated_mark)\n",
        "          rotated_mark = []\n",
        "    return rotated_marks\n",
        "\n",
        "\n",
        "def rotate_image(image, angle_degree):\n",
        "    \"\"\"Rotate image with given angle in degree.\"\"\"\n",
        "    rows, cols, _ = image.shape\n",
        "    #print(rows,cols)\n",
        "    rotation_matrix = cv.getRotationMatrix2D((rows/2, cols/2), angle_degree, 1)\n",
        "    return cv.warpAffine(image, rotation_matrix, (rows, cols))\n",
        "\n",
        "def image_visualizer(parking_image):\n",
        "  plt.imshow(parking_image['image'].permute(1, 2, 0))\n",
        "  for i in range(len(parking_image['marks'])):\n",
        "      plt.plot([parking_image['marks'][i][0],parking_image['marks'][i][2]],[parking_image['marks'][i][1],parking_image['marks'][i][3]],'o')\n",
        "  plt.show() "
      ],
      "execution_count": null,
      "outputs": []
    },
    {
      "cell_type": "code",
      "metadata": {
        "id": "oHD5hDwXc7xq"
      },
      "source": [
        "parking_image = park_dataset[0]"
      ],
      "execution_count": null,
      "outputs": []
    },
    {
      "cell_type": "code",
      "metadata": {
        "colab": {
          "base_uri": "https://localhost:8080/"
        },
        "id": "XVkH71BIdDA-",
        "outputId": "34bf99c7-44c4-445b-aff8-caab49651fd9"
      },
      "source": [
        "parking_image['marks']"
      ],
      "execution_count": null,
      "outputs": [
        {
          "output_type": "execute_result",
          "data": {
            "text/plain": [
              "[MarkingPoint(x=156.49270692159766, y=467.7227351856984, direction_x=19.42773840574701, direction_y=457.66536679229006, shape=0.0),\n",
              " MarkingPoint(x=177.77485358255444, y=152.9364735202492, direction_x=11.90941484378129, direction_y=144.8685478788332, shape=0.0)]"
            ]
          },
          "metadata": {
            "tags": []
          },
          "execution_count": 52
        }
      ]
    },
    {
      "cell_type": "code",
      "metadata": {
        "id": "2V4f9ibILV73"
      },
      "source": [
        "def more_dataset(parking_image,name):\n",
        "\n",
        "  for angle in range(0, 360, 15):\n",
        "    added_name= str(angle)\n",
        "    rotated_marks = rotate_centralized_marks(parking_image['marks'], angle)\n",
        "    rotated_image = rotate_image(np.array(parking_image['image'].permute(1,2,0)), angle)\n",
        "    marking_points = []\n",
        "    for label in np.array(rotated_marks):  \n",
        "        marking_points.append(MarkingPoint(*label))\n",
        "    if len(marking_points)!=0:    \n",
        "      in_image = rotated_image\n",
        "      in_image = cv2.cvtColor(np.array(in_image), cv2.COLOR_RGB2BGR)\n",
        "      in_image = cv.convertScaleAbs(in_image, alpha=(255.0))\n",
        "      cv2.imwrite((f\"/content/drive/MyDrive/train_aug_all/{name}_{added_name}.jpg\"), in_image)\n",
        "      in_json ={}\n",
        "      in_json = {'marks':marking_points,'slots':parking_image['slots']}\n",
        "      path = f\"/content/drive/MyDrive/train_aug_all/{name}_{added_name}.json\"\n",
        "      json.dump(in_json, codecs.open(path, 'w', encoding='utf-8'),\n",
        "                separators=(',', ':'), sort_keys=True) ### this saves the array in .json format  "
      ],
      "execution_count": null,
      "outputs": []
    },
    {
      "cell_type": "code",
      "metadata": {
        "id": "iHBllTwQjeab"
      },
      "source": [
        ""
      ],
      "execution_count": null,
      "outputs": []
    },
    {
      "cell_type": "code",
      "metadata": {
        "id": "JzDOoMEdLZbA"
      },
      "source": [
        "#for i in range(0,len(park_dataset)):\n",
        " # name = park_dataset.sample_names[i] + \"x_ref\"\n",
        "  #invert_image(park_dataset[i],name)\n"
      ],
      "execution_count": null,
      "outputs": []
    },
    {
      "cell_type": "code",
      "metadata": {
        "colab": {
          "background_save": true,
          "base_uri": "https://localhost:8080/"
        },
        "id": "aBM1rbeJ-h0r",
        "outputId": "964d5536-ad8a-4854-cfc2-ebd1e0bc1e0f"
      },
      "source": [
        "data_len = len(park_dataset)\n",
        "for i in range(0,760):\n",
        "  for j in range(i*20,(i*20 )+ 20):\n",
        "    name = f'{i}/{park_dataset.sample_names[j]}_aug'\n",
        "    more_dataset(park_dataset[j],name)\n",
        "  print(i)\n",
        "  "
      ],
      "execution_count": null,
      "outputs": [
        {
          "output_type": "stream",
          "text": [
            "0\n",
            "1\n",
            "2\n",
            "3\n",
            "4\n",
            "5\n",
            "6\n",
            "7\n",
            "8\n",
            "9\n",
            "10\n",
            "11\n",
            "12\n",
            "13\n",
            "14\n",
            "15\n",
            "16\n",
            "17\n",
            "18\n",
            "19\n",
            "20\n",
            "21\n",
            "22\n",
            "23\n",
            "24\n",
            "25\n",
            "26\n",
            "27\n",
            "28\n",
            "29\n",
            "30\n",
            "31\n",
            "32\n",
            "33\n",
            "34\n",
            "35\n",
            "36\n",
            "37\n",
            "38\n",
            "39\n",
            "40\n",
            "41\n",
            "42\n",
            "43\n",
            "44\n",
            "45\n",
            "46\n",
            "47\n",
            "48\n",
            "49\n",
            "50\n",
            "51\n",
            "52\n",
            "53\n",
            "54\n",
            "55\n",
            "56\n",
            "57\n",
            "58\n",
            "59\n",
            "60\n",
            "61\n",
            "62\n",
            "63\n",
            "64\n",
            "65\n",
            "66\n",
            "67\n",
            "68\n",
            "69\n",
            "70\n",
            "71\n",
            "72\n",
            "73\n",
            "74\n",
            "75\n",
            "76\n",
            "77\n",
            "78\n",
            "79\n",
            "80\n",
            "81\n",
            "82\n",
            "83\n",
            "84\n",
            "85\n",
            "86\n",
            "87\n",
            "88\n",
            "89\n",
            "90\n",
            "91\n",
            "92\n",
            "93\n",
            "94\n",
            "95\n",
            "96\n",
            "97\n",
            "98\n",
            "99\n",
            "100\n",
            "101\n",
            "102\n",
            "103\n",
            "104\n",
            "105\n",
            "106\n",
            "107\n",
            "108\n",
            "109\n",
            "110\n",
            "111\n",
            "112\n",
            "113\n",
            "114\n",
            "115\n",
            "116\n",
            "117\n",
            "118\n",
            "119\n",
            "120\n",
            "121\n",
            "122\n",
            "123\n",
            "124\n",
            "125\n",
            "126\n",
            "127\n",
            "128\n",
            "129\n",
            "130\n",
            "131\n",
            "132\n",
            "133\n",
            "134\n",
            "135\n",
            "136\n",
            "137\n",
            "138\n",
            "139\n",
            "140\n",
            "141\n",
            "142\n",
            "143\n",
            "144\n",
            "145\n",
            "146\n",
            "147\n",
            "148\n",
            "149\n",
            "150\n",
            "151\n",
            "152\n",
            "153\n",
            "154\n",
            "155\n",
            "156\n",
            "157\n",
            "158\n",
            "159\n",
            "160\n",
            "161\n",
            "162\n",
            "163\n",
            "164\n",
            "165\n",
            "166\n",
            "167\n",
            "168\n",
            "169\n",
            "170\n",
            "171\n",
            "172\n",
            "173\n",
            "174\n",
            "175\n",
            "176\n",
            "177\n",
            "178\n",
            "179\n",
            "180\n",
            "181\n",
            "182\n",
            "183\n",
            "184\n",
            "185\n",
            "186\n",
            "187\n",
            "188\n",
            "189\n",
            "190\n",
            "191\n",
            "192\n",
            "193\n",
            "194\n",
            "195\n",
            "196\n",
            "197\n",
            "198\n",
            "199\n",
            "200\n",
            "201\n",
            "202\n",
            "203\n",
            "204\n",
            "205\n",
            "206\n",
            "207\n",
            "208\n",
            "209\n",
            "210\n",
            "211\n",
            "212\n",
            "213\n",
            "214\n",
            "215\n",
            "216\n",
            "217\n",
            "218\n",
            "219\n",
            "220\n",
            "221\n",
            "222\n",
            "223\n",
            "224\n",
            "225\n",
            "226\n",
            "227\n",
            "228\n",
            "229\n",
            "230\n",
            "231\n",
            "232\n",
            "233\n",
            "234\n",
            "235\n",
            "236\n",
            "237\n",
            "238\n",
            "239\n",
            "240\n",
            "241\n",
            "242\n",
            "243\n",
            "244\n",
            "245\n",
            "246\n",
            "247\n",
            "248\n",
            "249\n",
            "250\n",
            "251\n",
            "252\n",
            "253\n",
            "254\n",
            "255\n",
            "256\n",
            "257\n",
            "258\n",
            "259\n",
            "260\n",
            "261\n",
            "262\n",
            "263\n",
            "264\n",
            "265\n",
            "266\n",
            "267\n",
            "268\n",
            "269\n",
            "270\n",
            "271\n",
            "272\n",
            "273\n",
            "274\n",
            "275\n",
            "276\n",
            "277\n",
            "278\n",
            "279\n",
            "280\n",
            "281\n",
            "282\n",
            "283\n",
            "284\n",
            "285\n",
            "286\n",
            "287\n",
            "288\n",
            "289\n",
            "290\n",
            "291\n",
            "292\n",
            "293\n",
            "294\n",
            "295\n",
            "296\n",
            "297\n",
            "298\n",
            "299\n",
            "300\n",
            "301\n",
            "302\n",
            "303\n",
            "304\n",
            "305\n",
            "306\n",
            "307\n",
            "308\n",
            "309\n",
            "310\n",
            "311\n",
            "312\n",
            "313\n",
            "314\n",
            "315\n",
            "316\n",
            "317\n",
            "318\n",
            "319\n",
            "320\n",
            "321\n",
            "322\n",
            "323\n",
            "324\n",
            "325\n",
            "326\n",
            "327\n",
            "328\n",
            "329\n",
            "330\n",
            "331\n",
            "332\n",
            "333\n",
            "334\n",
            "335\n",
            "336\n",
            "337\n",
            "338\n",
            "339\n",
            "340\n",
            "341\n",
            "342\n",
            "343\n",
            "344\n",
            "345\n",
            "346\n",
            "347\n",
            "348\n",
            "349\n",
            "350\n",
            "351\n",
            "352\n",
            "353\n",
            "354\n",
            "355\n",
            "356\n",
            "357\n",
            "358\n",
            "359\n",
            "360\n",
            "361\n",
            "362\n",
            "363\n",
            "364\n",
            "365\n",
            "366\n",
            "367\n",
            "368\n",
            "369\n",
            "370\n",
            "371\n",
            "372\n",
            "373\n",
            "374\n",
            "375\n",
            "376\n",
            "377\n",
            "378\n",
            "379\n",
            "380\n",
            "381\n",
            "382\n",
            "383\n",
            "384\n",
            "385\n",
            "386\n",
            "387\n",
            "388\n",
            "389\n",
            "390\n",
            "391\n",
            "392\n",
            "393\n",
            "394\n",
            "395\n",
            "396\n",
            "397\n",
            "398\n",
            "399\n",
            "400\n",
            "401\n",
            "402\n",
            "403\n",
            "404\n",
            "405\n",
            "406\n",
            "407\n",
            "408\n",
            "409\n",
            "410\n",
            "411\n",
            "412\n",
            "413\n",
            "414\n",
            "415\n",
            "416\n",
            "417\n",
            "418\n",
            "419\n",
            "420\n",
            "421\n",
            "422\n",
            "423\n",
            "424\n",
            "425\n",
            "426\n",
            "427\n",
            "428\n",
            "429\n",
            "430\n",
            "431\n",
            "432\n",
            "433\n",
            "434\n",
            "435\n",
            "436\n",
            "437\n",
            "438\n",
            "439\n",
            "440\n",
            "441\n",
            "442\n",
            "443\n",
            "444\n",
            "445\n",
            "446\n",
            "447\n",
            "448\n",
            "449\n",
            "450\n",
            "451\n",
            "452\n",
            "453\n",
            "454\n",
            "455\n",
            "456\n",
            "457\n",
            "458\n",
            "459\n",
            "460\n",
            "461\n",
            "462\n",
            "463\n",
            "464\n",
            "465\n",
            "466\n",
            "467\n",
            "468\n",
            "469\n",
            "470\n",
            "471\n",
            "472\n",
            "473\n",
            "474\n",
            "475\n",
            "476\n",
            "477\n",
            "478\n",
            "479\n",
            "480\n",
            "481\n",
            "482\n",
            "483\n",
            "484\n",
            "485\n",
            "486\n",
            "487\n",
            "488\n",
            "489\n",
            "490\n",
            "491\n",
            "492\n",
            "493\n",
            "494\n",
            "495\n",
            "496\n",
            "497\n",
            "498\n",
            "499\n",
            "500\n",
            "501\n",
            "502\n",
            "503\n",
            "504\n",
            "505\n",
            "506\n",
            "507\n",
            "508\n",
            "509\n",
            "510\n",
            "511\n",
            "512\n",
            "513\n",
            "514\n",
            "515\n",
            "516\n",
            "517\n",
            "518\n",
            "519\n",
            "520\n",
            "521\n",
            "522\n",
            "523\n",
            "524\n",
            "525\n",
            "526\n",
            "527\n",
            "528\n",
            "529\n",
            "530\n",
            "531\n",
            "532\n",
            "533\n",
            "534\n",
            "535\n",
            "536\n",
            "537\n",
            "538\n",
            "539\n",
            "540\n",
            "541\n",
            "542\n",
            "543\n",
            "544\n",
            "545\n",
            "546\n",
            "547\n",
            "548\n",
            "549\n",
            "550\n",
            "551\n",
            "552\n",
            "553\n",
            "554\n",
            "555\n",
            "556\n",
            "557\n",
            "558\n",
            "559\n",
            "560\n",
            "561\n",
            "562\n",
            "563\n",
            "564\n",
            "565\n",
            "566\n",
            "567\n",
            "568\n",
            "569\n",
            "570\n",
            "571\n",
            "572\n",
            "573\n",
            "574\n",
            "575\n",
            "576\n",
            "577\n",
            "578\n",
            "579\n",
            "580\n",
            "581\n",
            "582\n",
            "583\n",
            "584\n",
            "585\n",
            "586\n",
            "587\n",
            "588\n",
            "589\n",
            "590\n",
            "591\n",
            "592\n",
            "593\n",
            "594\n",
            "595\n",
            "596\n",
            "597\n",
            "598\n",
            "599\n",
            "600\n",
            "601\n",
            "602\n",
            "603\n",
            "604\n",
            "605\n",
            "606\n",
            "607\n",
            "608\n",
            "609\n",
            "610\n",
            "611\n",
            "612\n",
            "613\n",
            "614\n",
            "615\n",
            "616\n",
            "617\n",
            "618\n",
            "619\n",
            "620\n",
            "621\n",
            "622\n",
            "623\n",
            "624\n",
            "625\n",
            "626\n",
            "627\n",
            "628\n",
            "629\n",
            "630\n",
            "631\n",
            "632\n",
            "633\n",
            "634\n",
            "635\n",
            "636\n",
            "637\n",
            "638\n",
            "639\n",
            "640\n",
            "641\n",
            "642\n",
            "643\n",
            "644\n",
            "645\n",
            "646\n",
            "647\n",
            "648\n",
            "649\n",
            "650\n",
            "651\n",
            "652\n",
            "653\n",
            "654\n",
            "655\n",
            "656\n",
            "657\n",
            "658\n",
            "659\n",
            "660\n",
            "661\n",
            "662\n",
            "663\n",
            "664\n",
            "665\n",
            "666\n",
            "667\n",
            "668\n",
            "669\n",
            "670\n",
            "671\n",
            "672\n",
            "673\n",
            "674\n",
            "675\n",
            "676\n",
            "677\n",
            "678\n",
            "679\n",
            "680\n",
            "681\n",
            "682\n",
            "683\n",
            "684\n",
            "685\n",
            "686\n",
            "687\n",
            "688\n",
            "689\n",
            "690\n",
            "691\n",
            "692\n",
            "693\n",
            "694\n",
            "695\n",
            "696\n",
            "697\n",
            "698\n",
            "699\n",
            "700\n",
            "701\n",
            "702\n",
            "703\n",
            "704\n",
            "705\n",
            "706\n",
            "707\n",
            "708\n",
            "709\n",
            "710\n",
            "711\n",
            "712\n",
            "713\n",
            "714\n",
            "715\n",
            "716\n",
            "717\n",
            "718\n",
            "719\n",
            "720\n",
            "721\n",
            "722\n",
            "723\n",
            "724\n",
            "725\n",
            "726\n",
            "727\n",
            "728\n",
            "729\n",
            "730\n",
            "731\n",
            "732\n",
            "733\n",
            "734\n",
            "735\n",
            "736\n",
            "737\n",
            "738\n",
            "739\n",
            "740\n",
            "741\n",
            "742\n",
            "743\n",
            "744\n",
            "745\n",
            "746\n",
            "747\n",
            "748\n",
            "749\n",
            "750\n",
            "751\n",
            "752\n",
            "753\n",
            "754\n",
            "755\n",
            "756\n",
            "757\n",
            "758\n",
            "759\n"
          ],
          "name": "stdout"
        }
      ]
    },
    {
      "cell_type": "code",
      "metadata": {
        "colab": {
          "background_save": true
        },
        "id": "lyejl2PeGkv0",
        "outputId": "a8c58ed1-a7c5-4c5d-dbfe-bbcee2ccde43"
      },
      "source": [
        "while 1:\n",
        "  time.sleep(1)"
      ],
      "execution_count": null,
      "outputs": [
        {
          "output_type": "error",
          "ename": "KeyboardInterrupt",
          "evalue": "ignored",
          "traceback": [
            "\u001b[0;31m---------------------------------------------------------------------------\u001b[0m",
            "\u001b[0;31mKeyboardInterrupt\u001b[0m                         Traceback (most recent call last)",
            "\u001b[0;32m<ipython-input-3-1d045f42a83d>\u001b[0m in \u001b[0;36m<module>\u001b[0;34m()\u001b[0m\n\u001b[1;32m      1\u001b[0m \u001b[0;32mwhile\u001b[0m \u001b[0;36m1\u001b[0m\u001b[0;34m:\u001b[0m\u001b[0;34m\u001b[0m\u001b[0;34m\u001b[0m\u001b[0m\n\u001b[0;32m----> 2\u001b[0;31m   \u001b[0mtime\u001b[0m\u001b[0;34m.\u001b[0m\u001b[0msleep\u001b[0m\u001b[0;34m(\u001b[0m\u001b[0;36m1\u001b[0m\u001b[0;34m)\u001b[0m\u001b[0;34m\u001b[0m\u001b[0;34m\u001b[0m\u001b[0m\n\u001b[0m",
            "\u001b[0;31mKeyboardInterrupt\u001b[0m: "
          ]
        }
      ]
    },
    {
      "cell_type": "code",
      "metadata": {
        "colab": {
          "base_uri": "https://localhost:8080/"
        },
        "id": "Sj09VNCr46Hx",
        "outputId": "39a85a8d-b9b2-4f85-86fb-7f74422a6ee5"
      },
      "source": [
        "i = 2\n",
        "for j in range(i*500 + 272 ,(i*500 )+ 500):\n",
        "  name = f'{i}/{park_dataset.sample_names[j]}_aug'\n",
        "  more_dataset(park_dataset[j],name)\n",
        "print(i)\n",
        "  "
      ],
      "execution_count": null,
      "outputs": [
        {
          "output_type": "stream",
          "text": [
            "2\n"
          ],
          "name": "stdout"
        }
      ]
    },
    {
      "cell_type": "code",
      "metadata": {
        "colab": {
          "base_uri": "https://localhost:8080/"
        },
        "id": "G4EfnbXH6XEt",
        "outputId": "543de39a-6162-4b34-ab0f-e07d6e98541d"
      },
      "source": [
        "i = 10\n",
        "for j in range(i*500 + 318 ,(i*500 )+ 500):\n",
        "  name = f'{i}/{park_dataset.sample_names[j]}_aug'\n",
        "  more_dataset(park_dataset[j],name)\n",
        "print(i)\n",
        "  "
      ],
      "execution_count": null,
      "outputs": [
        {
          "output_type": "stream",
          "text": [
            "10\n"
          ],
          "name": "stdout"
        }
      ]
    },
    {
      "cell_type": "code",
      "metadata": {
        "colab": {
          "base_uri": "https://localhost:8080/"
        },
        "id": "_56Uc34V7aUW",
        "outputId": "d45d0b40-bff3-41e5-fccf-f12f1c258aa7"
      },
      "source": [
        "accum = 0\n",
        "for i in range(0,50):\n",
        " names22=[]\n",
        " for file in os.listdir(f'/content/drive/MyDrive/prescan_aug/{i}'):\n",
        "             if file.endswith(\".json\"):\n",
        "                 names22.append(os.path.splitext(file)[0])    \n",
        " print(len(names22),i)\n",
        " accum+=len(names22)\n",
        "print(accum)                 "
      ],
      "execution_count": null,
      "outputs": [
        {
          "output_type": "stream",
          "text": [
            "992 0\n",
            "994 1\n",
            "1000 2\n",
            "1000 3\n",
            "966 4\n",
            "984 5\n",
            "1000 6\n",
            "1000 7\n",
            "1000 8\n",
            "1000 9\n",
            "998 10\n",
            "1000 11\n",
            "998 12\n",
            "1000 13\n",
            "998 14\n",
            "1000 15\n",
            "1000 16\n",
            "1000 17\n",
            "998 18\n",
            "1000 19\n",
            "1000 20\n",
            "1000 21\n",
            "1000 22\n",
            "1000 23\n",
            "1000 24\n",
            "1000 25\n",
            "1000 26\n",
            "1000 27\n",
            "1000 28\n",
            "1000 29\n",
            "1000 30\n",
            "1000 31\n",
            "1000 32\n",
            "1000 33\n",
            "1000 34\n",
            "1000 35\n",
            "1000 36\n",
            "1000 37\n",
            "1000 38\n",
            "1000 39\n",
            "998 40\n",
            "1000 41\n",
            "1000 42\n",
            "1000 43\n",
            "1000 44\n",
            "1000 45\n",
            "1000 46\n",
            "1000 47\n",
            "994 48\n",
            "1000 49\n",
            "49920\n"
          ],
          "name": "stdout"
        }
      ]
    },
    {
      "cell_type": "code",
      "metadata": {
        "id": "qRls3SVh7mOn"
      },
      "source": [
        "while 1:\n",
        "  time.sleep(1)"
      ],
      "execution_count": null,
      "outputs": []
    }
  ]
}